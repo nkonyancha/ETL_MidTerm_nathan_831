{
 "cells": [
  {
   "cell_type": "markdown",
   "id": "5b945958",
   "metadata": {},
   "source": [
    "LOADING DATA TO PANDAS PARQUET"
   ]
  },
  {
   "cell_type": "code",
   "execution_count": 5,
   "id": "4b87278c",
   "metadata": {},
   "outputs": [],
   "source": [
    "import pandas as pd"
   ]
  },
  {
   "cell_type": "code",
   "execution_count": 6,
   "id": "8841b185",
   "metadata": {},
   "outputs": [],
   "source": [
    "#Loading the transformed datasets\n",
    "# Ensure the paths are correct based on your directory structure\n",
    "transformedraw = pd.read_csv(r'transformed\\transformed_full.csv')\n",
    "transformedinc= pd.read_csv(r'transformed\\transformed_incremental.csv')\n"
   ]
  },
  {
   "cell_type": "code",
   "execution_count": 7,
   "id": "5a605444",
   "metadata": {},
   "outputs": [],
   "source": [
    "# loading to parquet files\n",
    "transformedraw.to_parquet(r'load\\full_data.parquet', index=False)\n",
    "transformedinc.to_parquet(r'load\\incremented_data.parquet', index=False)"
   ]
  },
  {
   "cell_type": "code",
   "execution_count": 8,
   "id": "706038e6",
   "metadata": {},
   "outputs": [
    {
     "name": "stdout",
     "output_type": "stream",
     "text": [
      "Preview of transformed full data:\n",
      "   order_id  product  quantity  unit_price  order_date region  total_price  \\\n",
      "0         3   Laptop       2.0  250.000000  2024-01-08   None        500.0   \n",
      "1         4   Laptop       2.0  750.000000  2024-01-07   West       1500.0   \n",
      "2         5   Tablet       3.0  530.000000  2024-03-07  South       1590.0   \n",
      "3         7  Monitor       2.0  750.000000  2024-02-02   West       1500.0   \n",
      "4         8   Laptop       3.0  383.333333  2024-02-17   None       1150.0   \n",
      "\n",
      "  sale_tier  \n",
      "0    Bronze  \n",
      "1    Silver  \n",
      "2    Silver  \n",
      "3    Silver  \n",
      "4    Silver  \n",
      "Preview of transformed incremental data:\n",
      "   order_id product  quantity  unit_price  order_date   region  total_price\n",
      "0       102  Laptop       1.0       300.0  2024-05-07  Central        300.0\n",
      "1       103  Laptop       1.0       600.0  2024-05-04  Central        600.0\n",
      "2       105  Tablet       2.0       600.0  2024-05-21    North       1200.0\n",
      "3       106  Laptop       2.0       600.0  2024-05-18  Central       1200.0\n",
      "4       107  Tablet       1.0       600.0  2024-05-13  Central        600.0\n"
     ]
    }
   ],
   "source": [
    "# previewing the data\n",
    "raw_preview = pd.read_parquet(r'load\\full_data.parquet')\n",
    "print(\"Preview of transformed full data:\")\n",
    "print(raw_preview.head())\n",
    "\n",
    "inc_preview = pd.read_parquet(r'load\\incremented_data.parquet')\n",
    "print(\"Preview of transformed incremental data:\")\n",
    "print(inc_preview.head())"
   ]
  }
 ],
 "metadata": {
  "kernelspec": {
   "display_name": "Python 3",
   "language": "python",
   "name": "python3"
  },
  "language_info": {
   "codemirror_mode": {
    "name": "ipython",
    "version": 3
   },
   "file_extension": ".py",
   "mimetype": "text/x-python",
   "name": "python",
   "nbconvert_exporter": "python",
   "pygments_lexer": "ipython3",
   "version": "3.12.8"
  }
 },
 "nbformat": 4,
 "nbformat_minor": 5
}
