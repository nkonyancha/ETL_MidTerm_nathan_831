{
 "cells": [
  {
   "cell_type": "markdown",
   "id": "f4a7a9f7",
   "metadata": {},
   "source": [
    "EXTRACTING DATA FROM THE SOURCE"
   ]
  },
  {
   "cell_type": "code",
   "execution_count": 8,
   "id": "c98ddd1c",
   "metadata": {},
   "outputs": [],
   "source": [
    "import pandas as pd"
   ]
  },
  {
   "cell_type": "code",
   "execution_count": 9,
   "id": "452cedea",
   "metadata": {},
   "outputs": [
    {
     "name": "stdout",
     "output_type": "stream",
     "text": [
      "   order_id customer_name  product  quantity  unit_price  order_date region\n",
      "0         1         Diana   Tablet       NaN       500.0  2024-01-20  South\n",
      "1         2           Eve   Laptop       NaN         NaN  2024-04-29  North\n",
      "2         3       Charlie   Laptop       2.0       250.0  2024-01-08    NaN\n",
      "3         4           Eve   Laptop       2.0       750.0  2024-01-07   West\n",
      "4         5           Eve   Tablet       3.0         NaN  2024-03-07  South\n",
      "5         4           Eve   Laptop       2.0       750.0  2024-01-07   West\n",
      "6         7       Charlie  Monitor       2.0       750.0  2024-02-02   West\n",
      "7         8       Charlie   Laptop       3.0         NaN  2024-02-17    NaN\n",
      "8         9       Charlie  Monitor       NaN       750.0  2024-03-16   West\n",
      "9        10           Eve  Monitor       1.0       500.0  2024-02-28  North\n",
      "<class 'pandas.core.frame.DataFrame'>\n",
      "RangeIndex: 100 entries, 0 to 99\n",
      "Data columns (total 7 columns):\n",
      " #   Column         Non-Null Count  Dtype  \n",
      "---  ------         --------------  -----  \n",
      " 0   order_id       100 non-null    int64  \n",
      " 1   customer_name  99 non-null     object \n",
      " 2   product        100 non-null    object \n",
      " 3   quantity       74 non-null     float64\n",
      " 4   unit_price     65 non-null     float64\n",
      " 5   order_date     99 non-null     object \n",
      " 6   region         75 non-null     object \n",
      "dtypes: float64(2), int64(1), object(4)\n",
      "memory usage: 5.6+ KB\n",
      "None\n"
     ]
    }
   ],
   "source": [
    "#Reading two CSV files: one containing raw data and another with incremental data.\n",
    "# It then prints the first 10 rows of the raw data and its summary information.\n",
    "rawdata = pd.read_csv(r'data\\raw_data.csv')\n",
    "incremented = pd.read_csv(r'data\\incremental_data.csv')\n",
    "\n",
    "# Displaying the first 10 rows and summary information of the raw data.\n",
    "print(rawdata.head(10))\n",
    "print(rawdata.info())"
   ]
  },
  {
   "cell_type": "markdown",
   "id": "ced29dfc",
   "metadata": {},
   "source": [
    "From the above summary we can see that the data set is that of 100 entries containing 7 columns. order_id, the primary key uniquely identifies each order. We can see that the data set contains alot of null values especially in the unit price column(35) and the quantity column(26) which will be crucial for analysis."
   ]
  },
  {
   "cell_type": "code",
   "execution_count": 10,
   "id": "0f9be1b8",
   "metadata": {},
   "outputs": [
    {
     "name": "stdout",
     "output_type": "stream",
     "text": [
      "   order_id customer_name product  quantity  unit_price  order_date   region\n",
      "0       101         Alice  Laptop       NaN       900.0  2024-05-09  Central\n",
      "1       102           NaN  Laptop       1.0       300.0  2024-05-07  Central\n",
      "2       103           NaN  Laptop       1.0       600.0  2024-05-04  Central\n",
      "3       104           NaN  Tablet       NaN       300.0  2024-05-26  Central\n",
      "4       105         Heidi  Tablet       2.0       600.0  2024-05-21    North\n",
      "<class 'pandas.core.frame.DataFrame'>\n",
      "RangeIndex: 10 entries, 0 to 9\n",
      "Data columns (total 7 columns):\n",
      " #   Column         Non-Null Count  Dtype  \n",
      "---  ------         --------------  -----  \n",
      " 0   order_id       10 non-null     int64  \n",
      " 1   customer_name  4 non-null      object \n",
      " 2   product        10 non-null     object \n",
      " 3   quantity       6 non-null      float64\n",
      " 4   unit_price     10 non-null     float64\n",
      " 5   order_date     10 non-null     object \n",
      " 6   region         8 non-null      object \n",
      "dtypes: float64(2), int64(1), object(4)\n",
      "memory usage: 692.0+ bytes\n",
      "None\n",
      "2024-05-04\n"
     ]
    }
   ],
   "source": [
    "# Printing the first 5 rows and summary information of the incremental data.\n",
    "print(incremented.head())\n",
    "print(incremented.info())\n",
    "print(incremented['order_date'].min())\n"
   ]
  },
  {
   "cell_type": "markdown",
   "id": "4f5ea8c1",
   "metadata": {},
   "source": [
    "In the incremental data, we see a dataset of 10 entries with 7 columns. Dataset containing null values especially in the customer_name(6) and quantity(4) columns."
   ]
  },
  {
   "cell_type": "code",
   "execution_count": 11,
   "id": "b67d29a2",
   "metadata": {},
   "outputs": [
    {
     "name": "stdout",
     "output_type": "stream",
     "text": [
      "New extractiondate written: 2024-05-29T00:00:00\n"
     ]
    }
   ],
   "source": [
    "#updating the last extraction date\n",
    "import pandas as pd\n",
    "\n",
    "# Convert to datetime before using isoformat\n",
    "new_extractiondate = pd.to_datetime(incremented['order_date'].max())\n",
    "with open(\"last_extraction.txt\", 'w') as g:\n",
    "    g.write(new_extractiondate.isoformat())  # Write the new date in the same format\n",
    "print(f\"New extractiondate written: {new_extractiondate.isoformat()}\")"
   ]
  }
 ],
 "metadata": {
  "kernelspec": {
   "display_name": "Python 3",
   "language": "python",
   "name": "python3"
  },
  "language_info": {
   "codemirror_mode": {
    "name": "ipython",
    "version": 3
   },
   "file_extension": ".py",
   "mimetype": "text/x-python",
   "name": "python",
   "nbconvert_exporter": "python",
   "pygments_lexer": "ipython3",
   "version": "3.12.8"
  }
 },
 "nbformat": 4,
 "nbformat_minor": 5
}
